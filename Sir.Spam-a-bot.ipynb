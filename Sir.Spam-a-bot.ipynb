{
 "cells": [
  {
   "cell_type": "code",
   "execution_count": 7,
   "metadata": {},
   "outputs": [],
   "source": [
    "import selenium\n",
    "from selenium.webdriver.common.keys import Keys\n",
    "from selenium import webdriver\n",
    "import time"
   ]
  },
  {
   "cell_type": "code",
   "execution_count": 8,
   "metadata": {},
   "outputs": [],
   "source": [
    "group_name = \"Huh\"\n",
    "payload = \"huh.\"\n",
    "target = \"Animesh\"\n",
    "message_box = \"_3-8er.copyable-text.selectable-text\"\n",
    "name_box = \"_1Lc2C.eHxwV._3-8er\"\n",
    "text_box = \"_2_1wd.copyable-text.selectable-text\"\n",
    "wrapper = \"GDTQm.message-in.focusable-list-item\"\n",
    "data_id = \"69\""
   ]
  },
  {
   "cell_type": "code",
   "execution_count": 9,
   "metadata": {
    "scrolled": false
   },
   "outputs": [],
   "source": [
    "def sendMessage(payload):\n",
    "    reply = driver.find_elements_by_class_name(text_box)[-1];\n",
    "    reply.clear()\n",
    "    reply.send_keys(payload)\n",
    "    reply.send_keys(Keys.RETURN)"
   ]
  },
  {
   "cell_type": "code",
   "execution_count": null,
   "metadata": {},
   "outputs": [
    {
     "name": "stdout",
     "output_type": "stream",
     "text": [
      "Let the games begin\n",
      "Its time to get Huh\n",
      "I've hacked into the mainframe\n",
      "justice rains from above\n",
      "justice rains from above\n",
      "justice rains from above\n"
     ]
    }
   ],
   "source": [
    "print(\"Let the games begin\")\n",
    "driver = selenium.webdriver.Firefox(executable_path=r'C:\\Users\\Admin\\Desktop\\geckodriver.exe')\n",
    "driver.get(\"https://web.whatsapp.com/\")\n",
    "time.sleep(15)\n",
    "print(\"Its time to get groovy\")\n",
    "person = driver.find_element_by_xpath('//span[@title = \"{}\"]'.format(group_name))\n",
    "person.click()\n",
    "time.sleep(15)\n",
    "print(\"I've hacked into the mainframe\")\n",
    "while(True):\n",
    "    try:\n",
    "        msg = driver.find_elements_by_class_name(message_box)[-1].text\n",
    "        sender = driver.find_elements_by_class_name(name_box)[-1].text\n",
    "        last_data_id = driver.find_elements_by_class_name(wrapper)[-1].get_attribute('data-id')\n",
    "        if(sender==target):\n",
    "            if(last_data_id!=data_id):\n",
    "                data_id=last_data_id\n",
    "                sendMessage(payload)\n",
    "                time.sleep(5)\n",
    "                print(\"justice rains from above\") \n",
    "    except:\n",
    "        print(\"oops\")"
   ]
  },
  {
   "cell_type": "code",
   "execution_count": null,
   "metadata": {},
   "outputs": [],
   "source": []
  }
 ],
 "metadata": {
  "kernelspec": {
   "display_name": "Python 3",
   "language": "python",
   "name": "python3"
  },
  "language_info": {
   "codemirror_mode": {
    "name": "ipython",
    "version": 3
   },
   "file_extension": ".py",
   "mimetype": "text/x-python",
   "name": "python",
   "nbconvert_exporter": "python",
   "pygments_lexer": "ipython3",
   "version": "3.7.4"
  }
 },
 "nbformat": 4,
 "nbformat_minor": 2
}
